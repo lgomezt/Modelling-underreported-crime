{
 "cells": [
  {
   "attachments": {},
   "cell_type": "markdown",
   "metadata": {},
   "source": [
    "# Clean NUSE\n",
    "Our first source of information is a database of the citizens' crime reports to the security and emergency call center NUSE (by the Spanish acronym of \"Número Único de Seguridad y Emergencias\") in 2018 in Bogotá, Colombia. \n",
    "\n",
    "The objective of this script is to do two things:\n",
    "1. As NUSE is the data collected from the reports, in many cases, there is more than one report per crime. Therefore, we unified all the reports that meet the following three conditions:\n",
    "\n",
    "    (1) A crime $i$ occurred at a maximum distance of 500 meters from another crime $j$.\n",
    "\n",
    "    (2) The crime $i$ is separated for no more than 8 hours from crime $j$. \n",
    "\n",
    "    (3) The National Police Department classified crimes $i$ and $j$ with the same typology.\n",
    "    \n",
    "The output of this process produce the `unique_nuse` dataframe as an intermediate output that will be used to accomplish the second objective of this script. \n",
    "\n",
    "2. As our research is only interested in violent crimes, we filtered the `unique_nuse` data frame to only hold violent crimes and produce `violent_nuse` as the main output of this script. This data frame will be used in the next script `2_append_crimes.ipynb` in which we join `violent_nuse` with siedco, the official dataset of the crime of the Colombian National Police. "
   ]
  },
  {
   "attachments": {},
   "cell_type": "markdown",
   "metadata": {},
   "source": [
    "## 0. Import packages and data"
   ]
  },
  {
   "cell_type": "code",
   "execution_count": 7,
   "metadata": {},
   "outputs": [],
   "source": [
    "# Beginning of code\n",
    "\n",
    "# Load packages\n",
    "import pandas as pd\n",
    "import numpy as np\n",
    "from scipy.spatial import distance\n",
    "from tqdm import tqdm"
   ]
  },
  {
   "cell_type": "code",
   "execution_count": 8,
   "metadata": {},
   "outputs": [],
   "source": [
    "# Import nuse as df\n",
    "nuse = pd.read_csv('../../Data/nuse_2018_raw.csv', sep = \";\", low_memory = False)"
   ]
  },
  {
   "cell_type": "code",
   "execution_count": 9,
   "metadata": {},
   "outputs": [],
   "source": [
    "# Fix data types of the columns related with dates\n",
    "nuse.FECHA_ORIG = pd.to_datetime(nuse.FECHA_ORIG, format = \"%d/%m/%Y %H:%M:%S\")\n",
    "nuse.FECHA = pd.to_datetime(nuse.FECHA, format = \"%d/%m/%Y\")"
   ]
  },
  {
   "attachments": {},
   "cell_type": "markdown",
   "metadata": {},
   "source": [
    "## 1. Aggregation of reports to build a unique crime dataset"
   ]
  },
  {
   "cell_type": "code",
   "execution_count": 10,
   "metadata": {},
   "outputs": [],
   "source": [
    "# Create an hour variable (HORA2) that also reflects the minutes\n",
    "nuse[\"MINUTOS\"] = nuse.FECHA_ORIG[0:10].apply(lambda x: int(x.strftime(\"%M\")))\n",
    "nuse[\"MINUTOS\"] = nuse[\"MINUTOS\"].fillna(0)\n",
    "nuse[\"HORA2\"] = nuse[\"HORA\"] + nuse[\"MINUTOS\"]/60"
   ]
  },
  {
   "cell_type": "code",
   "execution_count": null,
   "metadata": {},
   "outputs": [],
   "source": [
    "# An empty data frame to store the results\n",
    "unique_nuse = pd.DataFrame()\n",
    "# We iterate by dates\n",
    "grilla_fechas = np.sort(nuse.FECHA.unique())\n",
    "\n",
    "for i in tqdm(grilla_fechas):\n",
    "    # For each date, we identify all the crimes reported\n",
    "    i = pd.to_datetime(i)\n",
    "    filtro = nuse.FECHA == i\n",
    "    df_small = nuse.loc[filtro,].reset_index(drop = True)\n",
    "\n",
    "    # Then, we divide the reports in groups according the typology of the crime\n",
    "    tipos = df_small[\"TIPO_DETALLE\"].unique()\n",
    "    for t in tipos:\n",
    "        filtro = df_small[\"TIPO_DETALLE\"] == t\n",
    "        df_small2 = df_small.loc[filtro,].reset_index(drop = True)\n",
    "\n",
    "        # Now we are going to calculate the events that have happened in a distance less than 500 meters\n",
    "        coords = df_small2[[\"LATITUD\", \"LONGITUD\"]].values\n",
    "        # Firstly, calculate an euclidean distance between coords \n",
    "        eu_d = distance.cdist(coords, coords, 'euclidean')\n",
    "        # Transform the results, that are in grades, to meters.\n",
    "        # In the equator, one grade is equivalent to 111,319 meters\n",
    "        dist_m = eu_d * 111319\n",
    "        # Make the filter\n",
    "        cercanos1 = dist_m < 500\n",
    "\n",
    "        # Lastly, create a filter to identify if the distance between events is less than 8 hours\n",
    "        horas = df_small2[\"HORA2\"].values\n",
    "        dist_h = np.abs(np.subtract.outer(horas, horas))\n",
    "        cercanos2 = dist_h < 8\n",
    "\n",
    "        # We define that we have the same crime if both the proximity condition of 500 meters and the \n",
    "        # proximity of 8 hours are met.\n",
    "        cercanos = cercanos1 & cercanos2\n",
    "\n",
    "        # Since the matrix is symmetric we only keep the upper triangular\n",
    "        cercanos = np.triu(cercanos)\n",
    "\n",
    "        # Now we are going to do the magic of only keeping the unique crimes. As our matrix is upper triangular, \n",
    "        # if we add by columns, those that are equal to 1 means that they are the only crimes\n",
    "        indices_guardar = np.where(np.sum(cercanos, axis = 0) == 1)[0]\n",
    "        \n",
    "        # Store the results\n",
    "        unique_nuse = pd.concat([unique_nuse, df_small2.loc[indices_guardar,]]).reset_index(drop = True)"
   ]
  },
  {
   "cell_type": "code",
   "execution_count": null,
   "metadata": {},
   "outputs": [],
   "source": [
    "unique_nuse.to_csv('../../Data/unique_nuse.csv', sep = \";\", index = False)"
   ]
  },
  {
   "attachments": {},
   "cell_type": "markdown",
   "metadata": {},
   "source": [
    "## 2. Filter to only have violent crimes"
   ]
  },
  {
   "cell_type": "code",
   "execution_count": 15,
   "metadata": {},
   "outputs": [],
   "source": [
    "violent_crimes_typology = [\"901\", \"903\", \"905\", \"910\", \"911\", \"912\", \"929\", \"934\"]\n",
    "violent_nuse = unique_nuse.loc[unique_nuse.TIPO_UNICO.isin(violent_crimes_typology),:].reset_index(drop = True)"
   ]
  },
  {
   "cell_type": "code",
   "execution_count": 16,
   "metadata": {},
   "outputs": [],
   "source": [
    "violent_nuse.to_csv('../../Data/violent_nuse.csv', sep = \";\", index = False)"
   ]
  },
  {
   "cell_type": "code",
   "execution_count": null,
   "metadata": {},
   "outputs": [],
   "source": [
    "# End of the code"
   ]
  }
 ],
 "metadata": {
  "kernelspec": {
   "display_name": "Python 3.8.5 ('base')",
   "language": "python",
   "name": "python3"
  },
  "language_info": {
   "codemirror_mode": {
    "name": "ipython",
    "version": 3
   },
   "file_extension": ".py",
   "mimetype": "text/x-python",
   "name": "python",
   "nbconvert_exporter": "python",
   "pygments_lexer": "ipython3",
   "version": "3.9.13"
  },
  "orig_nbformat": 4,
  "vscode": {
   "interpreter": {
    "hash": "f08154012ddadd8e950e6e9e035c7a7b32c136e7647e9b7c77e02eb723a8bedb"
   }
  }
 },
 "nbformat": 4,
 "nbformat_minor": 2
}

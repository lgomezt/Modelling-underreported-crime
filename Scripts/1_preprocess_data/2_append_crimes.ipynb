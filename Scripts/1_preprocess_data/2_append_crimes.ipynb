{
 "cells": [
  {
   "attachments": {},
   "cell_type": "markdown",
   "metadata": {},
   "source": [
    "# Append crimes\n",
    "As mentioned in the article, we have two sources of information about crimes in Bogotá, Colombia. The first one is NUSE, which represents the crime reported by the citizenship, and the second one is SIEDCO, the official record of crimes of the Colombian Police Department. By comparing the different reports in SIEDCO and NUSE, it can be observed that many reports in NUSE do not appear in SIEDCO and vice-versa. \n",
    "\n",
    "The objective of this script is to append both datasets to consolidate all the violent crime information of Bogotá for 2018. Here, we applied the same algorithm to remove duplicated crimes that was used in `1_clean_NUSE.ipynb`. To do so, we perform the following steps:\n",
    "1. Import `violent_nuse.csv` and `siedco_raw.csv`.\n",
    "2. Filter `siedco_raw.csv` to have only violent crimes. The data frame with only this kind of crimes is called `violent_siedco`.\n",
    "3. As the typology of the crimes is not in the same format in NUSE and SIEDCO, we created a dictionary to homogenize the typology of both sets. In this step, we also homogenize the names of the columns to make it easier to merge both datasets. In the end, we made a concatenation of rows.\n",
    "4. Merge `violent_nuse` and `violent_siedco` in `crime` dataframe and delete duplicates using the algorithm developed in `1_clean_NUSE.ipynb`."
   ]
  },
  {
   "attachments": {},
   "cell_type": "markdown",
   "metadata": {},
   "source": [
    "## 1. Import packages and data"
   ]
  },
  {
   "cell_type": "code",
   "execution_count": 24,
   "metadata": {},
   "outputs": [],
   "source": [
    "# Beginning of code\n",
    "\n",
    "# Load packages\n",
    "import pandas as pd\n",
    "import numpy as np\n",
    "import re\n",
    "from scipy.spatial import distance\n",
    "from tqdm import tqdm"
   ]
  },
  {
   "cell_type": "code",
   "execution_count": 25,
   "metadata": {},
   "outputs": [],
   "source": [
    "# Import violent_nuse\n",
    "violent_nuse = pd.read_csv('../../Data/violent_nuse.csv', sep = \";\")"
   ]
  },
  {
   "cell_type": "code",
   "execution_count": 26,
   "metadata": {},
   "outputs": [],
   "source": [
    "# Import siedco\n",
    "siedco = pd.read_csv('../../Data/siedco_raw.csv')\n",
    "\n",
    "# Fix date format of FECHA_HECHO\n",
    "siedco.FECHA_HECHO = pd.to_datetime(siedco.FECHA_HECHO)\n",
    "# Filter to only have crimes from 2018\n",
    "filtro = siedco.FECHA_HECHO.dt.year == 2018\n",
    "siedco = siedco.loc[filtro,].reset_index(drop = True)"
   ]
  },
  {
   "attachments": {},
   "cell_type": "markdown",
   "metadata": {},
   "source": [
    "## 2. Filter to only have violent crimes in siedco"
   ]
  },
  {
   "cell_type": "code",
   "execution_count": 27,
   "metadata": {},
   "outputs": [],
   "source": [
    "violent_crimes_typology = ['HURTO A COMERCIO', 'HURTO A PERSONAS', \n",
    "       'HURTO DE CELULARES', 'LESIONES PERSONALES', 'HURTO DE CELULARES (CASOS)', \n",
    "       'HURTO A RESIDENCIAS', 'DELITOS SEXUALES', 'HURTO DE BICICLETAS',\n",
    "       'HOMICIDIOS', 'HURTO ABIGEATO', 'SECUESTRO', 'TERRORISMO', \n",
    "       'HURTO MOTOCICLETAS', 'HURTO AUTOMOTORES']\n",
    "filtro = siedco.HECHO.isin(violent_crimes_typology)\n",
    "violent_siedco = siedco.loc[filtro,].reset_index(drop = True)"
   ]
  },
  {
   "attachments": {},
   "cell_type": "markdown",
   "metadata": {},
   "source": [
    "## 3. Create a dictionary to homogenize the typologies of crimes"
   ]
  },
  {
   "cell_type": "code",
   "execution_count": 28,
   "metadata": {},
   "outputs": [],
   "source": [
    "diccionario_delitos = {\n",
    "    'HURTO A COMERCIO': '904 - HURTO EFECTUADO',\n",
    "    'HURTO A PERSONAS': '904 - HURTO EFECTUADO',\n",
    "    'HURTO DE CELULARES': '904 - HURTO EFECTUADO',\n",
    "    'VIOLENCIA INTRAFAMILIAR': '906 - VIOLENCIA SEXUAL',\n",
    "    'LESIONES PERSONALES': '910 - LESIONES PERSONALES',\n",
    "    'HURTO DE CELULARES (CASOS)': '904 - HURTO EFECTUADO',\n",
    "    'LESIONES EN AT': '910 - LESIONES PERSONALES',\n",
    "    # siedco tipifica AMENAZAS dentro de \"12 DELITOS CONTRA LA SEGURIDAD PÚBLICA\"\n",
    "    'AMENAZAS': '932 - ALTERACIÓN DEL ORDEN PÚBLICO',\n",
    "    'HURTO A RESIDENCIAS': '904 - HURTO EFECTUADO',\n",
    "    'DELITOS SEXUALES': '906 - VIOLENCIA SEXUAL',\n",
    "    'HURTO DE BICICLETAS': '904 - HURTO EFECTUADO',\n",
    "    'EXTORSION': '932 - ALTERACIÓN DEL ORDEN PÚBLICO',\n",
    "    'HOMICIDIOS EN AT': '901 - MUERTO',\n",
    "    'HOMICIDIOS': '901 - MUERTO',\n",
    "    'HURTO A ENTIDADES FINANCIERAS': '904 - HURTO EFECTUADO',\n",
    "    'HURTO PIRATERIA TERRESTRE': '904 - HURTO EFECTUADO',\n",
    "    'HURTO ABIGEATO': '904 - HURTO EFECTUADO',\n",
    "    'SECUESTRO': '903 - RAPTO / SECUESTRO', \n",
    "    'TERRORISMO': '932 - ALTERACIÓN DEL ORDEN PÚBLICO', \n",
    "    'HURTO MOTOCICLETAS': '904 - HURTO EFECTUADO',\n",
    "    'HURTO AUTOMOTORES': '904 - HURTO EFECTUADO'}"
   ]
  },
  {
   "cell_type": "code",
   "execution_count": 29,
   "metadata": {},
   "outputs": [],
   "source": [
    "# Create a new column in violent_siedco with the homogenized typologies of crime\n",
    "violent_siedco[\"TIPO_DETALLE\"] = violent_siedco[\"HECHO\"].replace(diccionario_delitos)"
   ]
  },
  {
   "cell_type": "code",
   "execution_count": 30,
   "metadata": {},
   "outputs": [],
   "source": [
    "# Homogenize column names\n",
    "violent_siedco = violent_siedco[[\"TIPO_DETALLE\", \"FECHA_HECHO\", \"HORA\", \"LATITUD_Y\", \"LONGITUD_X\"]]\\\n",
    "    .rename(columns = {\"FECHA_HECHO\": \"FECHA\", \"LATITUD_Y\": \"LATITUD\", \"LONGITUD_X\": \"LONGITUD\"})\n",
    "violent_nuse = violent_nuse[['TIPO_DETALLE', 'FECHA', 'HORA', 'LATITUD', 'LONGITUD']]"
   ]
  },
  {
   "cell_type": "code",
   "execution_count": 31,
   "metadata": {},
   "outputs": [],
   "source": [
    "# Create an id of the origin of the row\n",
    "violent_siedco = violent_siedco.reset_index().rename(columns = {\"index\": \"BASE\"}).assign(BASE = lambda x: \"siedco - \" + x.BASE.astype(str))\n",
    "violent_nuse = violent_nuse.reset_index().rename(columns = {\"index\": \"BASE\"}).assign(BASE = lambda x: \"nuse - \" + x.BASE.astype(str))"
   ]
  },
  {
   "cell_type": "code",
   "execution_count": 32,
   "metadata": {},
   "outputs": [],
   "source": [
    "violent_siedco.to_csv('../../Data/violent_siedco.csv', sep = \";\", index = False)"
   ]
  },
  {
   "attachments": {},
   "cell_type": "markdown",
   "metadata": {},
   "source": [
    "## 4. Merge and remove duplicates "
   ]
  },
  {
   "cell_type": "code",
   "execution_count": 12,
   "metadata": {},
   "outputs": [],
   "source": [
    "# Merge\n",
    "crime = pd.concat([violent_siedco, violent_nuse]).reset_index(drop = True)"
   ]
  },
  {
   "cell_type": "code",
   "execution_count": 13,
   "metadata": {},
   "outputs": [],
   "source": [
    "# Fix date format\n",
    "crime.FECHA = pd.to_datetime(crime.FECHA)"
   ]
  },
  {
   "cell_type": "code",
   "execution_count": 15,
   "metadata": {},
   "outputs": [],
   "source": [
    "# Create an id of the name of the original base\n",
    "crime[\"BASE2\"] = crime[\"BASE\"].apply(lambda x: re.match(\"[A-Z]*\", x)[0])"
   ]
  },
  {
   "cell_type": "code",
   "execution_count": null,
   "metadata": {},
   "outputs": [],
   "source": [
    "# Delete duplicate reports\n",
    "\n",
    "# An empty data frame to store the results\n",
    "unique_crimes = pd.DataFrame()\n",
    "# We iterate by dates\n",
    "grilla_fechas = np.sort(crime.FECHA.unique())\n",
    "\n",
    "for i in tqdm(grilla_fechas):\n",
    "    # For each date, we identify all the crimes reported\n",
    "    i = pd.to_datetime(i)\n",
    "    filtro = crime.FECHA == i\n",
    "    crime_small = crime.loc[filtro,].reset_index(drop = True)\n",
    "\n",
    "    # Then, we divide the reports in groups according the typology of the crime\n",
    "    tipos = crime_small[\"TIPO_DETALLE\"].unique()\n",
    "    for t in tipos:\n",
    "        filtro = crime_small[\"TIPO_DETALLE\"] == t\n",
    "        crime_small2 = crime_small.loc[filtro,].reset_index(drop = True)\n",
    "\n",
    "        # Now we are going to calculate the events that have happened in a distance less than 500 meters\n",
    "        coords = crime_small2[[\"LATITUD\", \"LONGITUD\"]].values\n",
    "        # Firstly, calculate an euclidean distance between coords \n",
    "        eu_d = distance.cdist(coords, coords, 'euclidean')\n",
    "        # Transform the results, that are in grades, to meters.\n",
    "        # In the equator, one grade is equivalent to 111,319 meters\n",
    "        dist_m = eu_d * 111319\n",
    "        # Make the filter\n",
    "        cercanos1 = dist_m < 500\n",
    "\n",
    "        # Lastly, create a filter to identify if the distance between events is less than 8 hours\n",
    "        horas = crime_small2[\"HORA\"].values\n",
    "        dist_h = np.abs(np.subtract.outer(horas, horas))\n",
    "        cercanos2 = dist_h < 8\n",
    "\n",
    "        # We define that we have the same crime if both the proximity condition of 500 meters and the \n",
    "        # proximity of 8 hours are met.\n",
    "        cercanos = cercanos1 & cercanos2\n",
    "\n",
    "        # Since the matrix is symmetric we only keep the upper triangular\n",
    "        cercanos = np.triu(cercanos)\n",
    "\n",
    "        # Now we are going to do the magic of only keeping the unique crimes. As our matrix is upper triangular, \n",
    "        # if we add by columns, those that are equal to 1 means that they are the only crimes\n",
    "        indices_guardar = np.where(np.sum(cercanos, axis = 0) == 1)[0]\n",
    "        \n",
    "        # Store the results\n",
    "        unique_crimes = pd.concat([unique_crimes, crime_small2.loc[indices_guardar,]]).reset_index(drop = True)"
   ]
  },
  {
   "cell_type": "code",
   "execution_count": null,
   "metadata": {},
   "outputs": [],
   "source": [
    "unique_crimes.to_csv('../../Data/unique_crimes.csv', sep = \";\", index = False)"
   ]
  },
  {
   "cell_type": "code",
   "execution_count": null,
   "metadata": {},
   "outputs": [],
   "source": [
    "# End of the code"
   ]
  }
 ],
 "metadata": {
  "kernelspec": {
   "display_name": "base",
   "language": "python",
   "name": "python3"
  },
  "language_info": {
   "codemirror_mode": {
    "name": "ipython",
    "version": 3
   },
   "file_extension": ".py",
   "mimetype": "text/x-python",
   "name": "python",
   "nbconvert_exporter": "python",
   "pygments_lexer": "ipython3",
   "version": "3.9.16"
  },
  "orig_nbformat": 4,
  "vscode": {
   "interpreter": {
    "hash": "c99ec3b06bb2b7a9ce1cfef1038d6bd1f5e5eb8cf3fb3cc6612960f8106f6dac"
   }
  }
 },
 "nbformat": 4,
 "nbformat_minor": 2
}
